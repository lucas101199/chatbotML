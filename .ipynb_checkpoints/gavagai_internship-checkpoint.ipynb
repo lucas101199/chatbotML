{
 "cells": [
  {
   "cell_type": "code",
   "execution_count": 10,
   "metadata": {},
   "outputs": [],
   "source": [
    "import pandas as pd\n",
    "import random\n",
    "import operator\n",
    "from deep_translator import GoogleTranslator"
   ]
  },
  {
   "cell_type": "code",
   "execution_count": 11,
   "metadata": {},
   "outputs": [],
   "source": [
    "train_file = open(\"archive_gavagai/is_train.json\", 'r')\n",
    "train_file_oos = open(\"archive_gavagai/oos_train.json\", 'r')"
   ]
  },
  {
   "cell_type": "code",
   "execution_count": 12,
   "metadata": {},
   "outputs": [
    {
     "name": "stdout",
     "output_type": "stream",
     "text": [
      "                                             sentence scope\n",
      "0   what expression would i use to say i love you ...   ins\n",
      "1   can you tell me how to say 'i do not speak muc...   ins\n",
      "2   what is the equivalent of, 'life is good' in f...   ins\n",
      "3   tell me how to say, 'it is a beautiful morning...   ins\n",
      "4   if i were mongolian, how would i say that i am...   ins\n",
      "..                                                ...   ...\n",
      "95  what percentage of species display cold bloode...   oos\n",
      "96              what does it mean to be an alpha male   oos\n",
      "97                      what animals have alpha males   oos\n",
      "98                      why do males want to be alpha   oos\n",
      "99  what's the average battery life of an android ...   oos\n",
      "\n",
      "[15100 rows x 2 columns]\n"
     ]
    }
   ],
   "source": [
    "data = pd.read_json(train_file)\n",
    "data = data.append(pd.read_json(train_file_oos))\n",
    "data = data.rename(columns={0: 'sentence', 1: 'scope'})\n",
    "li = data['scope'].tolist()\n",
    "l = []\n",
    "for i in li:\n",
    "    if i not in l:\n",
    "        l.append(i)\n",
    "\n",
    "data['scope'] = data['scope'].replace(l[:-1], 'ins')\n",
    "data['scope'] = data['scope'].replace('oos', 'oos')\n",
    "print(data)"
   ]
  },
  {
   "cell_type": "code",
   "execution_count": 13,
   "metadata": {},
   "outputs": [],
   "source": [
    "sr = random.SystemRandom()\n",
    "\n",
    "language = [\"es\", \"de\", \"fr\", \"ar\", \"te\", \"hi\", \"ja\", \"fa\", \"sq\", \"bg\", \"nl\", \"gu\", \"kk\", \"mt\", \"ps\"]"
   ]
  },
  {
   "cell_type": "code",
   "execution_count": 14,
   "metadata": {},
   "outputs": [],
   "source": [
    "def data_augmentation(message, language, aug_range=1):\n",
    "    augmented_messages = []\n",
    "\n",
    "    if hasattr(message, \"decode\"):\n",
    "        message = message.decode(\"utf-8\")\n",
    "\n",
    "    for j in range(0, aug_range):\n",
    "        new_message = \"\"\n",
    "        target_lang = sr.choice(language)\n",
    "        text = GoogleTranslator(target=target_lang).translate(text=message)  ## Converting to random langauge for meaningful variation\n",
    "        text = GoogleTranslator(source=target_lang, target='en').translate(text=text)\n",
    "        augmented_messages.append(str(text))\n",
    "\n",
    "    return augmented_messages"
   ]
  },
  {
   "cell_type": "code",
   "execution_count": 15,
   "metadata": {},
   "outputs": [],
   "source": [
    "intent_count = data.scope.value_counts().to_dict()\n",
    "max_intent_count = max(intent_count.items(), key=operator.itemgetter(1))[1]"
   ]
  },
  {
   "cell_type": "code",
   "execution_count": 16,
   "metadata": {},
   "outputs": [],
   "source": [
    "import numpy as np\n",
    "import math\n",
    "import tqdm\n",
    "\n",
    "newdf = pd.DataFrame()"
   ]
  },
  {
   "cell_type": "code",
   "execution_count": 17,
   "metadata": {
    "scrolled": true
   },
   "outputs": [
    {
     "name": "stderr",
     "output_type": "stream",
     "text": [
      "100%|██████████| 100/100 [1:29:39<00:00, 53.79s/it]\n"
     ]
    },
    {
     "ename": "AttributeError",
     "evalue": "'DataFrame' object has no attribute 'Intent'",
     "output_type": "error",
     "traceback": [
      "\u001b[0;31m---------------------------------------------------------------------------\u001b[0m",
      "\u001b[0;31mAttributeError\u001b[0m                            Traceback (most recent call last)",
      "\u001b[0;32m<ipython-input-17-16ade05a5072>\u001b[0m in \u001b[0;36m<module>\u001b[0;34m\u001b[0m\n\u001b[1;32m     26\u001b[0m         \u001b[0mnewdf\u001b[0m \u001b[0;34m=\u001b[0m \u001b[0mnewdf\u001b[0m\u001b[0;34m.\u001b[0m\u001b[0mappend\u001b[0m\u001b[0;34m(\u001b[0m\u001b[0mdata\u001b[0m\u001b[0;34m[\u001b[0m\u001b[0mdata\u001b[0m\u001b[0;34m[\u001b[0m\u001b[0;34m\"scope\"\u001b[0m\u001b[0;34m]\u001b[0m \u001b[0;34m==\u001b[0m \u001b[0mintent\u001b[0m\u001b[0;34m]\u001b[0m\u001b[0;34m)\u001b[0m\u001b[0;34m\u001b[0m\u001b[0;34m\u001b[0m\u001b[0m\n\u001b[1;32m     27\u001b[0m \u001b[0;34m\u001b[0m\u001b[0m\n\u001b[0;32m---> 28\u001b[0;31m \u001b[0mnewdf\u001b[0m\u001b[0;34m.\u001b[0m\u001b[0mIntent\u001b[0m\u001b[0;34m.\u001b[0m\u001b[0mvalue_counts\u001b[0m\u001b[0;34m(\u001b[0m\u001b[0;34m)\u001b[0m\u001b[0;34m\u001b[0m\u001b[0;34m\u001b[0m\u001b[0m\n\u001b[0m",
      "\u001b[0;32m~/anaconda3/lib/python3.8/site-packages/pandas/core/generic.py\u001b[0m in \u001b[0;36m__getattr__\u001b[0;34m(self, name)\u001b[0m\n\u001b[1;32m   5137\u001b[0m             \u001b[0;32mif\u001b[0m \u001b[0mself\u001b[0m\u001b[0;34m.\u001b[0m\u001b[0m_info_axis\u001b[0m\u001b[0;34m.\u001b[0m\u001b[0m_can_hold_identifiers_and_holds_name\u001b[0m\u001b[0;34m(\u001b[0m\u001b[0mname\u001b[0m\u001b[0;34m)\u001b[0m\u001b[0;34m:\u001b[0m\u001b[0;34m\u001b[0m\u001b[0;34m\u001b[0m\u001b[0m\n\u001b[1;32m   5138\u001b[0m                 \u001b[0;32mreturn\u001b[0m \u001b[0mself\u001b[0m\u001b[0;34m[\u001b[0m\u001b[0mname\u001b[0m\u001b[0;34m]\u001b[0m\u001b[0;34m\u001b[0m\u001b[0;34m\u001b[0m\u001b[0m\n\u001b[0;32m-> 5139\u001b[0;31m             \u001b[0;32mreturn\u001b[0m \u001b[0mobject\u001b[0m\u001b[0;34m.\u001b[0m\u001b[0m__getattribute__\u001b[0m\u001b[0;34m(\u001b[0m\u001b[0mself\u001b[0m\u001b[0;34m,\u001b[0m \u001b[0mname\u001b[0m\u001b[0;34m)\u001b[0m\u001b[0;34m\u001b[0m\u001b[0;34m\u001b[0m\u001b[0m\n\u001b[0m\u001b[1;32m   5140\u001b[0m \u001b[0;34m\u001b[0m\u001b[0m\n\u001b[1;32m   5141\u001b[0m     \u001b[0;32mdef\u001b[0m \u001b[0m__setattr__\u001b[0m\u001b[0;34m(\u001b[0m\u001b[0mself\u001b[0m\u001b[0;34m,\u001b[0m \u001b[0mname\u001b[0m\u001b[0;34m:\u001b[0m \u001b[0mstr\u001b[0m\u001b[0;34m,\u001b[0m \u001b[0mvalue\u001b[0m\u001b[0;34m)\u001b[0m \u001b[0;34m->\u001b[0m \u001b[0;32mNone\u001b[0m\u001b[0;34m:\u001b[0m\u001b[0;34m\u001b[0m\u001b[0;34m\u001b[0m\u001b[0m\n",
      "\u001b[0;31mAttributeError\u001b[0m: 'DataFrame' object has no attribute 'Intent'"
     ]
    }
   ],
   "source": [
    "for intent, count in intent_count.items():\n",
    "    count_diff = max_intent_count - count  ## Difference to fill\n",
    "    multiplication_count = math.ceil(\n",
    "        (count_diff) / count)  ## Multiplying a minority classes for multiplication_count times\n",
    "    if (multiplication_count):\n",
    "        old_message_df = pd.DataFrame()\n",
    "        new_message_df = pd.DataFrame()\n",
    "        for message in tqdm.tqdm(data[data[\"scope\"] == intent][\"sentence\"]):\n",
    "            ## Extracting existing minority class batch\n",
    "            dummy1 = pd.DataFrame([message], columns=['sentence'])\n",
    "            dummy1[\"scope\"] = intent\n",
    "            old_message_df = old_message_df.append(dummy1)\n",
    "\n",
    "            ## Creating new augmented batch from existing minority class\n",
    "            new_messages = data_augmentation(message, language, multiplication_count)\n",
    "            dummy2 = pd.DataFrame(new_messages, columns=['sentence'])\n",
    "            dummy2[\"scope\"] = intent\n",
    "            new_message_df = new_message_df.append(dummy2)\n",
    "\n",
    "        ## Select random data points from augmented data\n",
    "        new_message_df = new_message_df.take(np.random.permutation(len(new_message_df))[:count_diff])\n",
    "\n",
    "        ## Merge existing and augmented data points\n",
    "        newdf = newdf.append([old_message_df, new_message_df])\n",
    "    else:\n",
    "        newdf = newdf.append(data[data[\"scope\"] == intent])\n",
    "\n",
    "newdf.Intent.value_counts()"
   ]
  },
  {
   "cell_type": "code",
   "execution_count": null,
   "metadata": {},
   "outputs": [],
   "source": []
  }
 ],
 "metadata": {
  "kernelspec": {
   "display_name": "Python 3",
   "language": "python",
   "name": "python3"
  },
  "language_info": {
   "codemirror_mode": {
    "name": "ipython",
    "version": 3
   },
   "file_extension": ".py",
   "mimetype": "text/x-python",
   "name": "python",
   "nbconvert_exporter": "python",
   "pygments_lexer": "ipython3",
   "version": "3.8.5"
  }
 },
 "nbformat": 4,
 "nbformat_minor": 4
}
